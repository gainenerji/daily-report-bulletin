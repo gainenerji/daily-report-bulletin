{
 "cells": [
  {
   "cell_type": "code",
   "execution_count": 2,
   "metadata": {},
   "outputs": [],
   "source": [
    "import pandas as pd\n",
    "import numpy as np\n",
    "import matplotlib.pyplot as plt\n",
    "import plotly.express as px\n",
    "import plotly.graph_objects as go\n",
    "from functions import *\n",
    "from datetime import datetime, timedelta\n",
    "from yahoo_fin.stock_info import get_data, tickers_sp500, tickers_nasdaq, tickers_other, get_quote_table\n"
   ]
  },
  {
   "cell_type": "code",
   "execution_count": 3,
   "metadata": {},
   "outputs": [],
   "source": [
    "today = datetime.today().replace(hour=0, minute=0, second=0, microsecond=0)\n",
    "yesterday = today - timedelta(days=1)\n",
    "tomorrow = today + timedelta(days=1)\n",
    "\n",
    "today_str = today.strftime(\"%Y-%m-%d\")\n"
   ]
  },
  {
   "cell_type": "code",
   "execution_count": 4,
   "metadata": {},
   "outputs": [],
   "source": [
    "rapor_tarihi = datetime.today().strftime(\"%d-%m-%Y\")"
   ]
  },
  {
   "cell_type": "code",
   "execution_count": 27,
   "metadata": {},
   "outputs": [
    {
     "name": "stderr",
     "output_type": "stream",
     "text": [
      "C:\\Users\\berka\\AppData\\Local\\Temp\\ipykernel_3700\\3157459840.py:3: FutureWarning: The default value of numeric_only in DataFrameGroupBy.mean is deprecated. In a future version, numeric_only will default to False. Either specify numeric_only or select only columns which should be valid for the function.\n",
      "  ptf_2023_m = ptf_2023.groupby(pd.Grouper(freq=\"M\")).mean()\n",
      "C:\\Users\\berka\\AppData\\Local\\Temp\\ipykernel_3700\\3157459840.py:8: FutureWarning: The default value of numeric_only in DataFrameGroupBy.mean is deprecated. In a future version, numeric_only will default to False. Either specify numeric_only or select only columns which should be valid for the function.\n",
      "  ptf_2022_m = ptf_2022.groupby(pd.Grouper(freq=\"M\")).mean()\n",
      "C:\\Users\\berka\\AppData\\Local\\Temp\\ipykernel_3700\\3157459840.py:13: FutureWarning: The default value of numeric_only in DataFrameGroupBy.mean is deprecated. In a future version, numeric_only will default to False. Either specify numeric_only or select only columns which should be valid for the function.\n",
      "  ptf_2021_m = ptf_2021.groupby(pd.Grouper(freq=\"M\")).mean()\n"
     ]
    }
   ],
   "source": [
    "ptf_2023 = ptf_smf(\"2023-01-01\",today_str)\n",
    "ptf_2023 = ptf_2023.set_index(\"Tarih\")\n",
    "ptf_2023_m = ptf_2023.groupby(pd.Grouper(freq=\"M\")).mean()\n",
    "ptf_2023_m = ptf_2023_m.reset_index()\n",
    "\n",
    "ptf_2022 = ptf_smf(\"2022-01-01\",\"2022-12-31\")\n",
    "ptf_2022 = ptf_2022.set_index(\"Tarih\")\n",
    "ptf_2022_m = ptf_2022.groupby(pd.Grouper(freq=\"M\")).mean()\n",
    "ptf_2022_m = ptf_2022_m.reset_index()\n",
    "\n",
    "ptf_2021 = ptf_smf(\"2021-01-01\",\"2021-12-31\")\n",
    "ptf_2021 = ptf_2021.set_index(\"Tarih\")\n",
    "ptf_2021_m = ptf_2021.groupby(pd.Grouper(freq=\"M\")).mean()\n",
    "ptf_2021_m = ptf_2021_m.reset_index()\n",
    "\n",
    "yearly_price = pd.DataFrame( columns=[\"Ay\",\"2021 PTF\",\"2022 PTF\",\"2023 PTF\",\"2021 SMF\",\"2022 SMF\",\"2023 SMF\"])\n",
    "yearly_price[\"Ay\"] = ptf_2021_m.index + 1\n",
    "yearly_price[\"2021 PTF\"] = ptf_2021_m[\"PTF\"]\n",
    "yearly_price[\"2022 PTF\"] = ptf_2022_m[\"PTF\"]\n",
    "yearly_price[\"2023 PTF\"] = ptf_2023_m[\"PTF\"]\n",
    "yearly_price[\"2021 SMF\"] = ptf_2021_m[\"SMF\"]\n",
    "yearly_price[\"2022 SMF\"] = ptf_2022_m[\"SMF\"]\n",
    "yearly_price[\"2023 SMF\"] = ptf_2023_m[\"SMF\"]\n",
    "\n",
    "\n",
    "\n",
    "\n",
    "\n"
   ]
  },
  {
   "cell_type": "code",
   "execution_count": 22,
   "metadata": {},
   "outputs": [
    {
     "data": {
      "text/plain": [
       "DatetimeIndex(['2021-01-31', '2021-02-28', '2021-03-31', '2021-04-30',\n",
       "               '2021-05-31', '2021-06-30', '2021-07-31', '2021-08-31',\n",
       "               '2021-09-30', '2021-10-31', '2021-11-30', '2021-12-31'],\n",
       "              dtype='datetime64[ns]', name='Tarih', freq='M')"
      ]
     },
     "execution_count": 22,
     "metadata": {},
     "output_type": "execute_result"
    }
   ],
   "source": [
    "ptf_2021_m.index"
   ]
  }
 ],
 "metadata": {
  "kernelspec": {
   "display_name": "Python 3",
   "language": "python",
   "name": "python3"
  },
  "language_info": {
   "codemirror_mode": {
    "name": "ipython",
    "version": 3
   },
   "file_extension": ".py",
   "mimetype": "text/x-python",
   "name": "python",
   "nbconvert_exporter": "python",
   "pygments_lexer": "ipython3",
   "version": "3.11.1"
  },
  "orig_nbformat": 4
 },
 "nbformat": 4,
 "nbformat_minor": 2
}
